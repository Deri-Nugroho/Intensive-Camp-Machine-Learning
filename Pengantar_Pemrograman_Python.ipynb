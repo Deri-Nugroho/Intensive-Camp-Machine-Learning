{
  "nbformat": 4,
  "nbformat_minor": 0,
  "metadata": {
    "colab": {
      "provenance": [],
      "include_colab_link": true
    },
    "kernelspec": {
      "name": "python3",
      "display_name": "Python 3"
    },
    "language_info": {
      "name": "python"
    }
  },
  "cells": [
    {
      "cell_type": "markdown",
      "metadata": {
        "id": "view-in-github",
        "colab_type": "text"
      },
      "source": [
        "<a href=\"https://colab.research.google.com/github/Deri-Nugroho/Intensive-Camp-Machine-Learning/blob/main/Pengantar_Pemrograman_Python.ipynb\" target=\"_parent\"><img src=\"https://colab.research.google.com/assets/colab-badge.svg\" alt=\"Open In Colab\"/></a>"
      ]
    },
    {
      "cell_type": "markdown",
      "source": [
        "# 🐍 Pengantar Pemrograman Python\n",
        "🔹 Apa Itu Python?\n",
        "Python adalah bahasa pemrograman tingkat tinggi yang:\n",
        "\n",
        "*   Memiliki sintaksis sederhana dan mudah dibaca.\n",
        "\n",
        "*   Digunakan luas dalam berbagai bidang: pengembangan web, automasi, data science, machine learning, AI, dll.\n",
        "\n",
        "*   Bersifat open-source dan memiliki komunitas global yang besar.\n",
        "\n",
        "🔹 Mengapa Memilih Python untuk Machine Learning?\n",
        "Mudah Dipelajari: Sintaks Python hampir seperti bahasa manusia.\n",
        "\n",
        "*   Kaya Library: Tersedia banyak library seperti NumPy, Pandas, Scikit-learn, TensorFlow, dan PyTorch.\n",
        "\n",
        "*   Kompatibel dengan AI/ML: Banyak tools dan platform mendukung Python sebagai bahasa utama.\n",
        "\n",
        "*   Komunitas Besar: Banyak dokumentasi, tutorial, dan bantuan online.\n",
        "\n"
      ],
      "metadata": {
        "id": "pzSq5N0N_QCG"
      }
    },
    {
      "cell_type": "markdown",
      "source": [
        "# 🔹 Struktur Dasar Bahasa Python"
      ],
      "metadata": {
        "id": "iuNAOhkK_jUW"
      }
    },
    {
      "cell_type": "markdown",
      "source": [
        "1. Komentar"
      ],
      "metadata": {
        "id": "7Oh058-H_n__"
      }
    },
    {
      "cell_type": "code",
      "execution_count": null,
      "metadata": {
        "colab": {
          "base_uri": "https://localhost:8080/",
          "height": 35
        },
        "id": "PKelZJiW84AX",
        "outputId": "57393047-5ffa-41ee-a0f1-f965619ec436"
      },
      "outputs": [
        {
          "output_type": "execute_result",
          "data": {
            "text/plain": [
              "'\\nIni komentar multi-baris,\\nbiasanya dipakai untuk dokumentasi\\n'"
            ],
            "application/vnd.google.colaboratory.intrinsic+json": {
              "type": "string"
            }
          },
          "metadata": {},
          "execution_count": 1
        }
      ],
      "source": [
        "# Ini adalah komentar satu baris\n",
        "\n",
        "\"\"\"\n",
        "Ini komentar multi-baris,\n",
        "biasanya dipakai untuk dokumentasi\n",
        "\"\"\"\n"
      ]
    },
    {
      "cell_type": "markdown",
      "source": [
        "2. Variabel & Tipe Data"
      ],
      "metadata": {
        "id": "xxjPvgKW_w71"
      }
    },
    {
      "cell_type": "code",
      "source": [
        "# Tipe data dasar\n",
        "angka = 10               # Integer\n",
        "pi = 3.14                # Float\n",
        "nama = \"Dian\"            # String\n",
        "aktif = True             # Boolean"
      ],
      "metadata": {
        "id": "S3PPRMKZ_xl-"
      },
      "execution_count": null,
      "outputs": []
    },
    {
      "cell_type": "markdown",
      "source": [
        "3. Operasi Matematika"
      ],
      "metadata": {
        "id": "KLdXktpd_28T"
      }
    },
    {
      "cell_type": "code",
      "source": [
        "x = 10\n",
        "y = 3\n",
        "\n",
        "print(x + y)   # Penjumlahan\n",
        "print(x - y)   # Pengurangan\n",
        "print(x * y)   # Perkalian\n",
        "print(x / y)   # Pembagian\n",
        "print(x % y)   # Modulus (sisa bagi)"
      ],
      "metadata": {
        "colab": {
          "base_uri": "https://localhost:8080/"
        },
        "id": "MN-ASQvR_3Vq",
        "outputId": "d1da6416-edb1-4b92-a1d9-a25fe954b4d8"
      },
      "execution_count": null,
      "outputs": [
        {
          "output_type": "stream",
          "name": "stdout",
          "text": [
            "13\n",
            "7\n",
            "30\n",
            "3.3333333333333335\n",
            "1\n"
          ]
        }
      ]
    },
    {
      "cell_type": "markdown",
      "source": [
        "4. Tipe Data Struktur (List, Tuple, Dictionary)"
      ],
      "metadata": {
        "id": "w6oVJ4Rb__-y"
      }
    },
    {
      "cell_type": "code",
      "source": [
        "# List (bisa diubah)\n",
        "buah = [\"apel\", \"jeruk\", \"mangga\"]\n",
        "print(buah[1])  # Output: jeruk\n",
        "\n",
        "# Tuple (tidak bisa diubah)\n",
        "angka = (1, 2, 3)\n",
        "\n",
        "# Dictionary (pasangan key:value)\n",
        "mahasiswa = {\n",
        "    \"nama\": \"Dian\",\n",
        "    \"umur\": 22}\n",
        "print(mahasiswa[\"nama\"])  # Output: Dian"
      ],
      "metadata": {
        "colab": {
          "base_uri": "https://localhost:8080/"
        },
        "id": "gVpwD2iQAAd6",
        "outputId": "e0938884-83a9-43d2-b633-bfda3589a30b"
      },
      "execution_count": null,
      "outputs": [
        {
          "output_type": "stream",
          "name": "stdout",
          "text": [
            "jeruk\n",
            "Dian\n"
          ]
        }
      ]
    },
    {
      "cell_type": "markdown",
      "source": [
        "5. Percabangan (if-else)"
      ],
      "metadata": {
        "id": "TOUv6mKKAFq5"
      }
    },
    {
      "cell_type": "code",
      "source": [
        "umur = 70\n",
        "if umur == 18:\n",
        "    print(\"Dewasa\")\n",
        "elif umur > 50:\n",
        "    print(\"Tua\")\n",
        "else:\n",
        "    print(\"Anak-anak\")"
      ],
      "metadata": {
        "colab": {
          "base_uri": "https://localhost:8080/"
        },
        "id": "kzID-nY4AGji",
        "outputId": "cfa65bfd-c77b-4548-e78f-dbec5722a09e"
      },
      "execution_count": null,
      "outputs": [
        {
          "output_type": "stream",
          "name": "stdout",
          "text": [
            "Tua\n"
          ]
        }
      ]
    },
    {
      "cell_type": "markdown",
      "source": [
        "6. Perulangan (looping)"
      ],
      "metadata": {
        "id": "tsF9OOU6ALt6"
      }
    },
    {
      "cell_type": "code",
      "source": [
        "# For loop\n",
        "for i in range(5):  # 0 sampai 4\n",
        "    print(i)\n",
        "\n",
        "# While loop\n",
        "count = 0\n",
        "while count < 5:\n",
        "    print(count)\n",
        "    count += 1"
      ],
      "metadata": {
        "colab": {
          "base_uri": "https://localhost:8080/"
        },
        "id": "6ONcCaE3AN9Q",
        "outputId": "6c5e952d-67ae-4149-e7c9-f62c76621702"
      },
      "execution_count": null,
      "outputs": [
        {
          "output_type": "stream",
          "name": "stdout",
          "text": [
            "0\n",
            "1\n",
            "2\n",
            "3\n",
            "4\n",
            "0\n",
            "1\n",
            "2\n",
            "3\n",
            "4\n"
          ]
        }
      ]
    },
    {
      "cell_type": "markdown",
      "source": [
        "# 🔹 Fungsi di Python"
      ],
      "metadata": {
        "id": "2Xc3rzNZAYNF"
      }
    },
    {
      "cell_type": "code",
      "source": [
        "# Fungsi sederhana\n",
        "def salam(nama):\n",
        "    print(\"Halo, \" + nama)\n",
        "\n",
        "salam(\"Dian\")  # Output: Halo, Dian"
      ],
      "metadata": {
        "colab": {
          "base_uri": "https://localhost:8080/"
        },
        "id": "KI2jF5OhAa5a",
        "outputId": "2191dc94-0c19-4c53-bcb5-3cdaa7f14dcb"
      },
      "execution_count": null,
      "outputs": [
        {
          "output_type": "stream",
          "name": "stdout",
          "text": [
            "Halo, Dian\n"
          ]
        }
      ]
    },
    {
      "cell_type": "markdown",
      "source": [
        "# 🔹 Penanganan Error (Exception Handling)"
      ],
      "metadata": {
        "id": "UShdtZllAmCJ"
      }
    },
    {
      "cell_type": "code",
      "source": [
        "try:\n",
        "    angka = int(10)  # Error karena bukan angka\n",
        "except ValueError:\n",
        "    print(\"Input tidak valid!\")"
      ],
      "metadata": {
        "id": "j_0gpTmaAm6b"
      },
      "execution_count": null,
      "outputs": []
    },
    {
      "cell_type": "markdown",
      "source": [
        "# 📘 Contoh Latihan Sederhana"
      ],
      "metadata": {
        "id": "vjZYIxwnAwKw"
      }
    },
    {
      "cell_type": "code",
      "source": [
        "# Menentukan bilangan ganjil/genap\n",
        "bilangan = int(input(\"Masukkan bilangan: \"))\n",
        "\n",
        "if bilangan % 2 == 0:\n",
        "    print(\"Bilangan genap\")\n",
        "else:\n",
        "    print(\"Bilangan ganjil\")"
      ],
      "metadata": {
        "colab": {
          "base_uri": "https://localhost:8080/"
        },
        "id": "-hjCHpECAw1u",
        "outputId": "91d88824-8a7e-4d8d-e8da-9400a666e1d0"
      },
      "execution_count": null,
      "outputs": [
        {
          "output_type": "stream",
          "name": "stdout",
          "text": [
            "Masukkan bilangan: 6\n",
            "Bilangan genap\n"
          ]
        }
      ]
    },
    {
      "cell_type": "markdown",
      "source": [
        "# ✅ Ringkasan Konsep"
      ],
      "metadata": {
        "id": "3k0NVME6A7qm"
      }
    },
    {
      "cell_type": "markdown",
      "source": [
        "| Konsep      | Penjelasan Singkat                          |\n",
        "| ----------- | ------------------------------------------- |\n",
        "| Variabel    | Tempat menyimpan data                       |\n",
        "| Tipe Data   | Integer, float, string, boolean             |\n",
        "| List/Dict   | Struktur data untuk menyimpan banyak item   |\n",
        "| Percabangan | Menentukan alur program berdasarkan kondisi |\n",
        "| Perulangan  | Mengulang proses sesuai kondisi             |\n",
        "| Fungsi      | Blok kode yang dapat digunakan ulang        |\n",
        "| Exception   | Menangani error agar program tidak crash    |\n"
      ],
      "metadata": {
        "id": "SpRuIA3yA0vU"
      }
    },
    {
      "cell_type": "markdown",
      "source": [
        "# 📚 Preprocessing Data untuk Machine Learning"
      ],
      "metadata": {
        "id": "T5YeONflMrEq"
      }
    },
    {
      "cell_type": "markdown",
      "source": [
        "Preprocessing data adalah proses membersihkan dan mempersiapkan data mentah agar siap digunakan untuk pelatihan model machine learning."
      ],
      "metadata": {
        "id": "dsqZwu1iMzWz"
      }
    },
    {
      "cell_type": "markdown",
      "source": [
        "1. Import Library yang Dibutuhkan"
      ],
      "metadata": {
        "id": "BEkUd4hbl5H0"
      }
    },
    {
      "cell_type": "code",
      "source": [
        "import pandas as pd\n",
        "import numpy as np\n",
        "from sklearn.model_selection import train_test_split\n",
        "from sklearn.preprocessing import LabelEncoder, StandardScaler\n",
        "from sklearn.ensemble import RandomForestClassifier\n",
        "from sklearn.metrics import accuracy_score, classification_report, confusion_matrix"
      ],
      "metadata": {
        "id": "UokGtWXQldj2"
      },
      "execution_count": null,
      "outputs": []
    },
    {
      "cell_type": "markdown",
      "source": [
        "2. Contoh Dataset dengan Missing Value (NaN)"
      ],
      "metadata": {
        "id": "JNlQJxs1l-Ig"
      }
    },
    {
      "cell_type": "code",
      "source": [
        "import pandas as pd\n",
        "import numpy as np\n",
        "\n",
        "data = {\n",
        "    'Nama': [\n",
        "        'Ari','Budi','Citra','Dina','Eka','Fajar','Gita','Hani','Indra','Joko',\n",
        "        'Kiki','Lina','Made','Nina','Oka','Putri','Qori','Rama','Sinta','Tono',\n",
        "        'Umar','Vina','Wati','Xander','Yuni','Zaki','Alya','Bayu','Cahya','Dewi',\n",
        "        'Edo','Farah','Galih','Hana','Iqbal','Jihan','Kamal','Laras','Miko','Nadia',\n",
        "        'Oscar','Putra','Quin','Rizki','Sari','Tegar','Utami','Vino','Wulan','Yoga'\n",
        "    ],\n",
        "    'Jenis Kelamin': [\n",
        "        'Pria','Pria','Wanita','Wanita','Wanita','Pria','Wanita','Wanita','Pria','Pria',\n",
        "        'Pria','Wanita','Pria','Wanita','Pria','Wanita','Wanita','Pria','Wanita','Pria',\n",
        "        'Pria','Wanita','Wanita','Pria','Wanita','Pria','Wanita','Pria','Wanita','Wanita',\n",
        "        'Pria','Wanita','Pria','Wanita','Pria','Wanita','Pria','Wanita','Pria','Wanita',\n",
        "        'Pria','Pria','Wanita','Pria','Wanita','Pria','Wanita','Pria','Wanita','Pria'\n",
        "    ],\n",
        "    'Usia': [\n",
        "        25,40,30,45,28,35,32,29,50,38,    # Layak\n",
        "        42,33,31,36,29,41,39,34,48,26,    # Layak\n",
        "        44,37,30,52,43,32,39,27,35,31,    # Tidak\n",
        "        20,19,56,60,18,58,17,70,22,65,    # Tidak\n",
        "        28,45,29,53,24,np.nan,38,21,33,46 # Campuran dgn NaN\n",
        "    ],\n",
        "    'Pendapatan': [\n",
        "        15,18,20,14,12,19,22,16,25,13,    # Layak\n",
        "        17,21,14,19,16,23,18,20,15,22,    # Layak\n",
        "        8,9,11,10,7,6,5,8,9,10,           # Tidak\n",
        "        30,28,35,40,25,50,60,55,70,80,    # Tidak (pinjaman besar / usia tidak sesuai)\n",
        "        12,14,16,13,np.nan,18,22,15,19,20 # Campuran dgn NaN\n",
        "    ],  # juta per bulan\n",
        "    'Pekerjaan': [\n",
        "        'Swasta','PNS','Swasta','PNS','Wirausaha','Swasta','Swasta','PNS','PNS','Wirausaha',\n",
        "        'Swasta','PNS','Wirausaha','Swasta','PNS','Wirausaha','Swasta','PNS','Swasta','Wirausaha',\n",
        "        'Swasta','PNS','Swasta','PNS','Wirausaha','Swasta','Swasta','PNS','Wirausaha',np.nan,\n",
        "        'Swasta','PNS','Wirausaha','Swasta','PNS','Wirausaha','Swasta','PNS','Swasta','Wirausaha',\n",
        "        'Swasta','PNS','Wirausaha','Swasta','PNS','Wirausaha','Swasta','PNS','Swasta','Wirausaha'\n",
        "    ],\n",
        "    'Jumlah Pinjaman': [\n",
        "        300,400,250,350,200,280,320,450,300,400,   # Layak\n",
        "        250,300,280,400,350,200,450,300,320,400,   # Layak\n",
        "        600,700,550,800,650,900,750,600,700,800,   # Tidak\n",
        "        900,850,1000,1200,950,1100,1300,1250,900,1000, # Tidak\n",
        "        200,300,400,250,600,700,550,800,650,500    # Campuran\n",
        "    ],  # juta\n",
        "    'Durasi Pinjaman': [\n",
        "        10,12,8,15,7,10,9,14,10,12,    # Layak\n",
        "        8,10,9,11,12,10,14,9,10,13,    # Layak\n",
        "        20,18,25,22,19,21,23,24,20,19, # Tidak\n",
        "        30,28,27,35,25,33,32,np.nan,30,28, # Tidak\n",
        "        7,9,10,8,20,22,18,25,19,15     # Campuran\n",
        "    ],  # tahun\n",
        "    'Kelayakan Kredit': [\n",
        "        'Layak','Layak','Layak','Layak','Layak','Layak','Layak','Layak','Layak','Layak',\n",
        "        'Layak','Layak','Layak','Layak','Layak','Layak','Layak','Layak','Layak','Layak',\n",
        "        'Tidak','Tidak','Tidak','Tidak','Tidak','Tidak','Tidak','Tidak','Tidak','Tidak',\n",
        "        'Tidak','Tidak','Tidak','Tidak','Tidak','Tidak','Tidak','Tidak','Tidak','Tidak',\n",
        "        'Layak','Layak','Layak','Layak','Tidak','Tidak','Tidak','Tidak','Tidak','Layak'\n",
        "    ]\n",
        "}\n",
        "\n",
        "df = pd.DataFrame(data)\n",
        "\n",
        "print(\"=== Data Awal (50 baris, dengan NaN) ===\")\n",
        "print(df.head(5))\n",
        "print(\"\\nJumlah Kelayakan Kredit:\\n\", df['Kelayakan Kredit'].value_counts())\n"
      ],
      "metadata": {
        "colab": {
          "base_uri": "https://localhost:8080/"
        },
        "id": "rZLy_PY7mCcb",
        "outputId": "f79bbd61-e140-4ec3-8cfa-f5ea80c44a60"
      },
      "execution_count": null,
      "outputs": [
        {
          "output_type": "stream",
          "name": "stdout",
          "text": [
            "=== Data Awal (50 baris, dengan NaN) ===\n",
            "    Nama Jenis Kelamin  Usia  Pendapatan  Pekerjaan  Jumlah Pinjaman  \\\n",
            "0    Ari          Pria  25.0        15.0     Swasta              300   \n",
            "1   Budi          Pria  40.0        18.0        PNS              400   \n",
            "2  Citra        Wanita  30.0        20.0     Swasta              250   \n",
            "3   Dina        Wanita  45.0        14.0        PNS              350   \n",
            "4    Eka        Wanita  28.0        12.0  Wirausaha              200   \n",
            "\n",
            "   Durasi Pinjaman Kelayakan Kredit  \n",
            "0             10.0            Layak  \n",
            "1             12.0            Layak  \n",
            "2              8.0            Layak  \n",
            "3             15.0            Layak  \n",
            "4              7.0            Layak  \n",
            "\n",
            "Jumlah Kelayakan Kredit:\n",
            " Kelayakan Kredit\n",
            "Layak    25\n",
            "Tidak    25\n",
            "Name: count, dtype: int64\n"
          ]
        }
      ]
    },
    {
      "cell_type": "markdown",
      "source": [
        "3. Menangani Missing Value (NaN)"
      ],
      "metadata": {
        "id": "ul6A4NpRmGtN"
      }
    },
    {
      "cell_type": "code",
      "source": [
        "# Isi nilai NaN untuk kolom numerik dengan mean (rata-rata)\n",
        "for col in ['Usia', 'Pendapatan', 'Jumlah Pinjaman', 'Durasi Pinjaman']:\n",
        "    df[col].fillna(df[col].mean(), inplace=True)\n",
        "\n",
        "# Isi nilai NaN untuk kolom kategorikal dengan modus (nilai terbanyak)\n",
        "df['Pekerjaan'].fillna(df['Pekerjaan'].mode()[0], inplace=True)\n",
        "\n",
        "print(\"\\nData Setelah Missing Value Ditangani:\\n\", df)"
      ],
      "metadata": {
        "colab": {
          "base_uri": "https://localhost:8080/"
        },
        "id": "d4-inb36mHR9",
        "outputId": "be2e4ab7-21ec-43ad-fcef-f6c433a0fadf"
      },
      "execution_count": null,
      "outputs": [
        {
          "output_type": "stream",
          "name": "stdout",
          "text": [
            "\n",
            "Data Setelah Missing Value Ditangani:\n",
            "       Nama Jenis Kelamin       Usia  Pendapatan  Pekerjaan  Jumlah Pinjaman  \\\n",
            "0      Ari          Pria  25.000000   15.000000     Swasta              300   \n",
            "1     Budi          Pria  40.000000   18.000000        PNS              400   \n",
            "2    Citra        Wanita  30.000000   20.000000     Swasta              250   \n",
            "3     Dina        Wanita  45.000000   14.000000        PNS              350   \n",
            "4      Eka        Wanita  28.000000   12.000000  Wirausaha              200   \n",
            "5    Fajar          Pria  35.000000   19.000000     Swasta              280   \n",
            "6     Gita        Wanita  32.000000   22.000000     Swasta              320   \n",
            "7     Hani        Wanita  29.000000   16.000000        PNS              450   \n",
            "8    Indra          Pria  50.000000   25.000000        PNS              300   \n",
            "9     Joko          Pria  38.000000   13.000000  Wirausaha              400   \n",
            "10    Kiki          Pria  42.000000   17.000000     Swasta              250   \n",
            "11    Lina        Wanita  33.000000   21.000000        PNS              300   \n",
            "12    Made          Pria  31.000000   14.000000  Wirausaha              280   \n",
            "13    Nina        Wanita  36.000000   19.000000     Swasta              400   \n",
            "14     Oka          Pria  29.000000   16.000000        PNS              350   \n",
            "15   Putri        Wanita  41.000000   23.000000  Wirausaha              200   \n",
            "16    Qori        Wanita  39.000000   18.000000     Swasta              450   \n",
            "17    Rama          Pria  34.000000   20.000000        PNS              300   \n",
            "18   Sinta        Wanita  48.000000   15.000000     Swasta              320   \n",
            "19    Tono          Pria  26.000000   22.000000  Wirausaha              400   \n",
            "20    Umar          Pria  44.000000    8.000000     Swasta              600   \n",
            "21    Vina        Wanita  37.000000    9.000000        PNS              700   \n",
            "22    Wati        Wanita  30.000000   11.000000     Swasta              550   \n",
            "23  Xander          Pria  52.000000   10.000000        PNS              800   \n",
            "24    Yuni        Wanita  43.000000    7.000000  Wirausaha              650   \n",
            "25    Zaki          Pria  32.000000    6.000000     Swasta              900   \n",
            "26    Alya        Wanita  39.000000    5.000000     Swasta              750   \n",
            "27    Bayu          Pria  27.000000    8.000000        PNS              600   \n",
            "28   Cahya        Wanita  35.000000    9.000000  Wirausaha              700   \n",
            "29    Dewi        Wanita  31.000000   10.000000     Swasta              800   \n",
            "30     Edo          Pria  20.000000   30.000000     Swasta              900   \n",
            "31   Farah        Wanita  19.000000   28.000000        PNS              850   \n",
            "32   Galih          Pria  56.000000   35.000000  Wirausaha             1000   \n",
            "33    Hana        Wanita  60.000000   40.000000     Swasta             1200   \n",
            "34   Iqbal          Pria  18.000000   25.000000        PNS              950   \n",
            "35   Jihan        Wanita  58.000000   50.000000  Wirausaha             1100   \n",
            "36   Kamal          Pria  17.000000   60.000000     Swasta             1300   \n",
            "37   Laras        Wanita  70.000000   55.000000        PNS             1250   \n",
            "38    Miko          Pria  22.000000   70.000000     Swasta              900   \n",
            "39   Nadia        Wanita  65.000000   80.000000  Wirausaha             1000   \n",
            "40   Oscar          Pria  28.000000   12.000000     Swasta              200   \n",
            "41   Putra          Pria  45.000000   14.000000        PNS              300   \n",
            "42    Quin        Wanita  29.000000   16.000000  Wirausaha              400   \n",
            "43   Rizki          Pria  53.000000   13.000000     Swasta              250   \n",
            "44    Sari        Wanita  24.000000   21.714286        PNS              600   \n",
            "45   Tegar          Pria  36.795918   18.000000  Wirausaha              700   \n",
            "46   Utami        Wanita  38.000000   22.000000     Swasta              550   \n",
            "47    Vino          Pria  21.000000   15.000000        PNS              800   \n",
            "48   Wulan        Wanita  33.000000   19.000000     Swasta              650   \n",
            "49    Yoga          Pria  46.000000   20.000000  Wirausaha              500   \n",
            "\n",
            "    Durasi Pinjaman Kelayakan Kredit  \n",
            "0         10.000000            Layak  \n",
            "1         12.000000            Layak  \n",
            "2          8.000000            Layak  \n",
            "3         15.000000            Layak  \n",
            "4          7.000000            Layak  \n",
            "5         10.000000            Layak  \n",
            "6          9.000000            Layak  \n",
            "7         14.000000            Layak  \n",
            "8         10.000000            Layak  \n",
            "9         12.000000            Layak  \n",
            "10         8.000000            Layak  \n",
            "11        10.000000            Layak  \n",
            "12         9.000000            Layak  \n",
            "13        11.000000            Layak  \n",
            "14        12.000000            Layak  \n",
            "15        10.000000            Layak  \n",
            "16        14.000000            Layak  \n",
            "17         9.000000            Layak  \n",
            "18        10.000000            Layak  \n",
            "19        13.000000            Layak  \n",
            "20        20.000000            Tidak  \n",
            "21        18.000000            Tidak  \n",
            "22        25.000000            Tidak  \n",
            "23        22.000000            Tidak  \n",
            "24        19.000000            Tidak  \n",
            "25        21.000000            Tidak  \n",
            "26        23.000000            Tidak  \n",
            "27        24.000000            Tidak  \n",
            "28        20.000000            Tidak  \n",
            "29        19.000000            Tidak  \n",
            "30        30.000000            Tidak  \n",
            "31        28.000000            Tidak  \n",
            "32        27.000000            Tidak  \n",
            "33        35.000000            Tidak  \n",
            "34        25.000000            Tidak  \n",
            "35        33.000000            Tidak  \n",
            "36        32.000000            Tidak  \n",
            "37        17.244898            Tidak  \n",
            "38        30.000000            Tidak  \n",
            "39        28.000000            Tidak  \n",
            "40         7.000000            Layak  \n",
            "41         9.000000            Layak  \n",
            "42        10.000000            Layak  \n",
            "43         8.000000            Layak  \n",
            "44        20.000000            Tidak  \n",
            "45        22.000000            Tidak  \n",
            "46        18.000000            Tidak  \n",
            "47        25.000000            Tidak  \n",
            "48        19.000000            Tidak  \n",
            "49        15.000000            Layak  \n"
          ]
        },
        {
          "output_type": "stream",
          "name": "stderr",
          "text": [
            "/tmp/ipython-input-2331936857.py:3: FutureWarning: A value is trying to be set on a copy of a DataFrame or Series through chained assignment using an inplace method.\n",
            "The behavior will change in pandas 3.0. This inplace method will never work because the intermediate object on which we are setting values always behaves as a copy.\n",
            "\n",
            "For example, when doing 'df[col].method(value, inplace=True)', try using 'df.method({col: value}, inplace=True)' or df[col] = df[col].method(value) instead, to perform the operation inplace on the original object.\n",
            "\n",
            "\n",
            "  df[col].fillna(df[col].mean(), inplace=True)\n",
            "/tmp/ipython-input-2331936857.py:6: FutureWarning: A value is trying to be set on a copy of a DataFrame or Series through chained assignment using an inplace method.\n",
            "The behavior will change in pandas 3.0. This inplace method will never work because the intermediate object on which we are setting values always behaves as a copy.\n",
            "\n",
            "For example, when doing 'df[col].method(value, inplace=True)', try using 'df.method({col: value}, inplace=True)' or df[col] = df[col].method(value) instead, to perform the operation inplace on the original object.\n",
            "\n",
            "\n",
            "  df['Pekerjaan'].fillna(df['Pekerjaan'].mode()[0], inplace=True)\n"
          ]
        }
      ]
    },
    {
      "cell_type": "markdown",
      "source": [
        "4. Encoding Kolom Kategorikal"
      ],
      "metadata": {
        "id": "JBWG4fVgmMP0"
      }
    },
    {
      "cell_type": "code",
      "source": [
        "# Buat objek LabelEncoder\n",
        "le_gender = LabelEncoder()   # Untuk kolom Jenis Kelamin\n",
        "le_job = LabelEncoder()      # Untuk kolom Pekerjaan\n",
        "le_target = LabelEncoder()   # Untuk kolom target Kelayakan Kredit\n",
        "\n",
        "# Ubah kolom kategorikal menjadi angka\n",
        "df['Jenis Kelamin'] = le_gender.fit_transform(df['Jenis Kelamin'])      # Pria/Wanita -> 0/1\n",
        "df['Pekerjaan'] = le_job.fit_transform(df['Pekerjaan'])                # Swasta/PNS/Wirausaha -> angka\n",
        "df['Kelayakan Kredit'] = le_target.fit_transform(df['Kelayakan Kredit']) # Layak/Tidak -> 1/0\n",
        "\n",
        "print(\"\\nData Setelah Encoding:\\n\", df)"
      ],
      "metadata": {
        "colab": {
          "base_uri": "https://localhost:8080/"
        },
        "id": "qcbLIPaWmMvA",
        "outputId": "65705ccd-6568-4317-8872-07016581f045"
      },
      "execution_count": null,
      "outputs": [
        {
          "output_type": "stream",
          "name": "stdout",
          "text": [
            "\n",
            "Data Setelah Encoding:\n",
            "       Nama  Jenis Kelamin       Usia  Pendapatan  Pekerjaan  Jumlah Pinjaman  \\\n",
            "0      Ari              0  25.000000   15.000000          1              300   \n",
            "1     Budi              0  40.000000   18.000000          0              400   \n",
            "2    Citra              1  30.000000   20.000000          1              250   \n",
            "3     Dina              1  45.000000   14.000000          0              350   \n",
            "4      Eka              1  28.000000   12.000000          2              200   \n",
            "5    Fajar              0  35.000000   19.000000          1              280   \n",
            "6     Gita              1  32.000000   22.000000          1              320   \n",
            "7     Hani              1  29.000000   16.000000          0              450   \n",
            "8    Indra              0  50.000000   25.000000          0              300   \n",
            "9     Joko              0  38.000000   13.000000          2              400   \n",
            "10    Kiki              0  42.000000   17.000000          1              250   \n",
            "11    Lina              1  33.000000   21.000000          0              300   \n",
            "12    Made              0  31.000000   14.000000          2              280   \n",
            "13    Nina              1  36.000000   19.000000          1              400   \n",
            "14     Oka              0  29.000000   16.000000          0              350   \n",
            "15   Putri              1  41.000000   23.000000          2              200   \n",
            "16    Qori              1  39.000000   18.000000          1              450   \n",
            "17    Rama              0  34.000000   20.000000          0              300   \n",
            "18   Sinta              1  48.000000   15.000000          1              320   \n",
            "19    Tono              0  26.000000   22.000000          2              400   \n",
            "20    Umar              0  44.000000    8.000000          1              600   \n",
            "21    Vina              1  37.000000    9.000000          0              700   \n",
            "22    Wati              1  30.000000   11.000000          1              550   \n",
            "23  Xander              0  52.000000   10.000000          0              800   \n",
            "24    Yuni              1  43.000000    7.000000          2              650   \n",
            "25    Zaki              0  32.000000    6.000000          1              900   \n",
            "26    Alya              1  39.000000    5.000000          1              750   \n",
            "27    Bayu              0  27.000000    8.000000          0              600   \n",
            "28   Cahya              1  35.000000    9.000000          2              700   \n",
            "29    Dewi              1  31.000000   10.000000          1              800   \n",
            "30     Edo              0  20.000000   30.000000          1              900   \n",
            "31   Farah              1  19.000000   28.000000          0              850   \n",
            "32   Galih              0  56.000000   35.000000          2             1000   \n",
            "33    Hana              1  60.000000   40.000000          1             1200   \n",
            "34   Iqbal              0  18.000000   25.000000          0              950   \n",
            "35   Jihan              1  58.000000   50.000000          2             1100   \n",
            "36   Kamal              0  17.000000   60.000000          1             1300   \n",
            "37   Laras              1  70.000000   55.000000          0             1250   \n",
            "38    Miko              0  22.000000   70.000000          1              900   \n",
            "39   Nadia              1  65.000000   80.000000          2             1000   \n",
            "40   Oscar              0  28.000000   12.000000          1              200   \n",
            "41   Putra              0  45.000000   14.000000          0              300   \n",
            "42    Quin              1  29.000000   16.000000          2              400   \n",
            "43   Rizki              0  53.000000   13.000000          1              250   \n",
            "44    Sari              1  24.000000   21.714286          0              600   \n",
            "45   Tegar              0  36.795918   18.000000          2              700   \n",
            "46   Utami              1  38.000000   22.000000          1              550   \n",
            "47    Vino              0  21.000000   15.000000          0              800   \n",
            "48   Wulan              1  33.000000   19.000000          1              650   \n",
            "49    Yoga              0  46.000000   20.000000          2              500   \n",
            "\n",
            "    Durasi Pinjaman  Kelayakan Kredit  \n",
            "0         10.000000                 0  \n",
            "1         12.000000                 0  \n",
            "2          8.000000                 0  \n",
            "3         15.000000                 0  \n",
            "4          7.000000                 0  \n",
            "5         10.000000                 0  \n",
            "6          9.000000                 0  \n",
            "7         14.000000                 0  \n",
            "8         10.000000                 0  \n",
            "9         12.000000                 0  \n",
            "10         8.000000                 0  \n",
            "11        10.000000                 0  \n",
            "12         9.000000                 0  \n",
            "13        11.000000                 0  \n",
            "14        12.000000                 0  \n",
            "15        10.000000                 0  \n",
            "16        14.000000                 0  \n",
            "17         9.000000                 0  \n",
            "18        10.000000                 0  \n",
            "19        13.000000                 0  \n",
            "20        20.000000                 1  \n",
            "21        18.000000                 1  \n",
            "22        25.000000                 1  \n",
            "23        22.000000                 1  \n",
            "24        19.000000                 1  \n",
            "25        21.000000                 1  \n",
            "26        23.000000                 1  \n",
            "27        24.000000                 1  \n",
            "28        20.000000                 1  \n",
            "29        19.000000                 1  \n",
            "30        30.000000                 1  \n",
            "31        28.000000                 1  \n",
            "32        27.000000                 1  \n",
            "33        35.000000                 1  \n",
            "34        25.000000                 1  \n",
            "35        33.000000                 1  \n",
            "36        32.000000                 1  \n",
            "37        17.244898                 1  \n",
            "38        30.000000                 1  \n",
            "39        28.000000                 1  \n",
            "40         7.000000                 0  \n",
            "41         9.000000                 0  \n",
            "42        10.000000                 0  \n",
            "43         8.000000                 0  \n",
            "44        20.000000                 1  \n",
            "45        22.000000                 1  \n",
            "46        18.000000                 1  \n",
            "47        25.000000                 1  \n",
            "48        19.000000                 1  \n",
            "49        15.000000                 0  \n"
          ]
        }
      ]
    },
    {
      "cell_type": "markdown",
      "source": [
        "5. Standarisasi Kolom Numerik"
      ],
      "metadata": {
        "id": "wibYUOXHmRd0"
      }
    },
    {
      "cell_type": "code",
      "source": [
        "# Buat objek scaler\n",
        "scaler = StandardScaler()\n",
        "\n",
        "# Standarisasi kolom numerik agar memiliki skala yang sama\n",
        "df[['Usia', 'Pendapatan', 'Jumlah Pinjaman', 'Durasi Pinjaman']] = scaler.fit_transform(\n",
        "    df[['Usia', 'Pendapatan', 'Jumlah Pinjaman', 'Durasi Pinjaman']]\n",
        ")\n",
        "\n",
        "print(\"\\nData Setelah Standarisasi:\\n\", df)"
      ],
      "metadata": {
        "colab": {
          "base_uri": "https://localhost:8080/"
        },
        "id": "sYd1wZskmR2z",
        "outputId": "0f5a0729-33a4-45e9-8a4e-5a863900aeb8"
      },
      "execution_count": null,
      "outputs": [
        {
          "output_type": "stream",
          "name": "stdout",
          "text": [
            "\n",
            "Data Setelah Standarisasi:\n",
            "       Nama  Jenis Kelamin          Usia  Pendapatan  Pekerjaan  \\\n",
            "0      Ari              0 -9.735762e-01   -0.425946          1   \n",
            "1     Budi              0  2.644489e-01   -0.235629          0   \n",
            "2    Citra              1 -5.609012e-01   -0.108752          1   \n",
            "3     Dina              1  6.771239e-01   -0.489384          0   \n",
            "4      Eka              1 -7.259712e-01   -0.616262          2   \n",
            "5    Fajar              0 -1.482261e-01   -0.172191          1   \n",
            "6     Gita              1 -3.958311e-01    0.018125          1   \n",
            "7     Hani              1 -6.434362e-01   -0.362507          0   \n",
            "8    Indra              0  1.089799e+00    0.208441          0   \n",
            "9     Joko              0  9.937888e-02   -0.552823          2   \n",
            "10    Kiki              0  4.295189e-01   -0.299068          1   \n",
            "11    Lina              1 -3.132961e-01   -0.045313          0   \n",
            "12    Made              0 -4.783661e-01   -0.489384          2   \n",
            "13    Nina              1 -6.569113e-02   -0.172191          1   \n",
            "14     Oka              0 -6.434362e-01   -0.362507          0   \n",
            "15   Putri              1  3.469839e-01    0.081564          2   \n",
            "16    Qori              1  1.819139e-01   -0.235629          1   \n",
            "17    Rama              0 -2.307611e-01   -0.108752          0   \n",
            "18   Sinta              1  9.247289e-01   -0.425946          1   \n",
            "19    Tono              0 -8.910412e-01    0.018125          2   \n",
            "20    Umar              0  5.945889e-01   -0.870016          1   \n",
            "21    Vina              1  1.684388e-02   -0.806578          0   \n",
            "22    Wati              1 -5.609012e-01   -0.679700          1   \n",
            "23  Xander              0  1.254869e+00   -0.743139          0   \n",
            "24    Yuni              1  5.120539e-01   -0.933455          2   \n",
            "25    Zaki              0 -3.958311e-01   -0.996894          1   \n",
            "26    Alya              1  1.819139e-01   -1.060333          1   \n",
            "27    Bayu              0 -8.085062e-01   -0.870016          0   \n",
            "28   Cahya              1 -1.482261e-01   -0.806578          2   \n",
            "29    Dewi              1 -4.783661e-01   -0.743139          1   \n",
            "30     Edo              0 -1.386251e+00    0.525635          1   \n",
            "31   Farah              1 -1.468786e+00    0.398758          0   \n",
            "32   Galih              0  1.585009e+00    0.842828          2   \n",
            "33    Hana              1  1.915149e+00    1.160022          1   \n",
            "34   Iqbal              0 -1.551321e+00    0.208441          0   \n",
            "35   Jihan              1  1.750079e+00    1.794409          2   \n",
            "36   Kamal              0 -1.633856e+00    2.428796          1   \n",
            "37   Laras              1  2.740499e+00    2.111602          0   \n",
            "38    Miko              0 -1.221181e+00    3.063183          1   \n",
            "39   Nadia              1  2.327824e+00    3.697570          2   \n",
            "40   Oscar              0 -7.259712e-01   -0.616262          1   \n",
            "41   Putra              0  6.771239e-01   -0.489384          0   \n",
            "42    Quin              1 -6.434362e-01   -0.362507          2   \n",
            "43   Rizki              0  1.337404e+00   -0.552823          1   \n",
            "44    Sari              1 -1.056111e+00    0.000000          0   \n",
            "45   Tegar              0 -5.864465e-16   -0.235629          2   \n",
            "46   Utami              1  9.937888e-02    0.018125          1   \n",
            "47    Vino              0 -1.303716e+00   -0.425946          0   \n",
            "48   Wulan              1 -3.132961e-01   -0.172191          1   \n",
            "49    Yoga              0  7.596589e-01   -0.108752          2   \n",
            "\n",
            "    Jumlah Pinjaman  Durasi Pinjaman  Kelayakan Kredit  \n",
            "0         -0.930305    -9.259366e-01                 0  \n",
            "1         -0.596862    -6.703260e-01                 0  \n",
            "2         -1.097026    -1.181547e+00                 0  \n",
            "3         -0.763584    -2.869099e-01                 0  \n",
            "4         -1.263748    -1.309353e+00                 0  \n",
            "5         -0.996994    -9.259366e-01                 0  \n",
            "6         -0.863616    -1.053742e+00                 0  \n",
            "7         -0.430141    -4.147153e-01                 0  \n",
            "8         -0.930305    -9.259366e-01                 0  \n",
            "9         -0.596862    -6.703260e-01                 0  \n",
            "10        -1.097026    -1.181547e+00                 0  \n",
            "11        -0.930305    -9.259366e-01                 0  \n",
            "12        -0.996994    -1.053742e+00                 0  \n",
            "13        -0.596862    -7.981313e-01                 0  \n",
            "14        -0.763584    -6.703260e-01                 0  \n",
            "15        -1.263748    -9.259366e-01                 0  \n",
            "16        -0.430141    -4.147153e-01                 0  \n",
            "17        -0.930305    -1.053742e+00                 0  \n",
            "18        -0.863616    -9.259366e-01                 0  \n",
            "19        -0.596862    -5.425206e-01                 0  \n",
            "20         0.070023     3.521167e-01                 1  \n",
            "21         0.403466     9.650607e-02                 1  \n",
            "22        -0.096698     9.911434e-01                 1  \n",
            "23         0.736908     6.077274e-01                 1  \n",
            "24         0.236744     2.243114e-01                 1  \n",
            "25         1.070351     4.799221e-01                 1  \n",
            "26         0.570187     7.355328e-01                 1  \n",
            "27         0.070023     8.633381e-01                 1  \n",
            "28         0.403466     3.521167e-01                 1  \n",
            "29         0.736908     2.243114e-01                 1  \n",
            "30         1.070351     1.630170e+00                 1  \n",
            "31         0.903630     1.374559e+00                 1  \n",
            "32         1.403794     1.246754e+00                 1  \n",
            "33         2.070679     2.269197e+00                 1  \n",
            "34         1.237072     9.911434e-01                 1  \n",
            "35         1.737236     2.013586e+00                 1  \n",
            "36         2.404121     1.885781e+00                 1  \n",
            "37         2.237400     4.540558e-16                 1  \n",
            "38         1.070351     1.630170e+00                 1  \n",
            "39         1.403794     1.374559e+00                 1  \n",
            "40        -1.263748    -1.309353e+00                 0  \n",
            "41        -0.930305    -1.053742e+00                 0  \n",
            "42        -0.596862    -9.259366e-01                 0  \n",
            "43        -1.097026    -1.181547e+00                 0  \n",
            "44         0.070023     3.521167e-01                 1  \n",
            "45         0.403466     6.077274e-01                 1  \n",
            "46        -0.096698     9.650607e-02                 1  \n",
            "47         0.736908     9.911434e-01                 1  \n",
            "48         0.236744     2.243114e-01                 1  \n",
            "49        -0.263420    -2.869099e-01                 0  \n"
          ]
        }
      ]
    },
    {
      "cell_type": "markdown",
      "source": [
        "6. Pisahkan Fitur (X) dan Target (y)"
      ],
      "metadata": {
        "id": "3MtVHfA-mZFC"
      }
    },
    {
      "cell_type": "code",
      "source": [
        "X = df.drop(columns=['Kelayakan Kredit', 'Nama'])  # Semua kolom kecuali target dan Nama\n",
        "y = df['Kelayakan Kredit']                         # Kolom target\n",
        "\n",
        "# Bagi dataset menjadi data latih (70%) dan data uji (30%)\n",
        "X_train, X_test, y_train, y_test = train_test_split(\n",
        "    X, y, test_size=0.3, random_state=42\n",
        ")\n",
        "\n",
        "print(\"\\nData Latih:\\n\", X_train)\n",
        "print(\"\\nData Uji:\\n\", X_test)"
      ],
      "metadata": {
        "colab": {
          "base_uri": "https://localhost:8080/"
        },
        "id": "6BEFMaObmasX",
        "outputId": "c9e422f5-7703-4740-e3dd-76bf4e8d4972"
      },
      "execution_count": null,
      "outputs": [
        {
          "output_type": "stream",
          "name": "stdout",
          "text": [
            "\n",
            "Data Latih:\n",
            "     Jenis Kelamin      Usia  Pendapatan  Pekerjaan  Jumlah Pinjaman  \\\n",
            "6               1 -0.395831    0.018125          1        -0.863616   \n",
            "41              0  0.677124   -0.489384          0        -0.930305   \n",
            "46              1  0.099379    0.018125          1        -0.096698   \n",
            "47              0 -1.303716   -0.425946          0         0.736908   \n",
            "15              1  0.346984    0.081564          2        -1.263748   \n",
            "9               0  0.099379   -0.552823          2        -0.596862   \n",
            "16              1  0.181914   -0.235629          1        -0.430141   \n",
            "24              1  0.512054   -0.933455          2         0.236744   \n",
            "34              0 -1.551321    0.208441          0         1.237072   \n",
            "31              1 -1.468786    0.398758          0         0.903630   \n",
            "0               0 -0.973576   -0.425946          1        -0.930305   \n",
            "44              1 -1.056111    0.000000          0         0.070023   \n",
            "27              0 -0.808506   -0.870016          0         0.070023   \n",
            "33              1  1.915149    1.160022          1         2.070679   \n",
            "5               0 -0.148226   -0.172191          1        -0.996994   \n",
            "29              1 -0.478366   -0.743139          1         0.736908   \n",
            "11              1 -0.313296   -0.045313          0        -0.930305   \n",
            "36              0 -1.633856    2.428796          1         2.404121   \n",
            "1               0  0.264449   -0.235629          0        -0.596862   \n",
            "21              1  0.016844   -0.806578          0         0.403466   \n",
            "2               1 -0.560901   -0.108752          1        -1.097026   \n",
            "43              0  1.337404   -0.552823          1        -1.097026   \n",
            "35              1  1.750079    1.794409          2         1.737236   \n",
            "23              0  1.254869   -0.743139          0         0.736908   \n",
            "40              0 -0.725971   -0.616262          1        -1.263748   \n",
            "10              0  0.429519   -0.299068          1        -1.097026   \n",
            "22              1 -0.560901   -0.679700          1        -0.096698   \n",
            "18              1  0.924729   -0.425946          1        -0.863616   \n",
            "49              0  0.759659   -0.108752          2        -0.263420   \n",
            "20              0  0.594589   -0.870016          1         0.070023   \n",
            "7               1 -0.643436   -0.362507          0        -0.430141   \n",
            "42              1 -0.643436   -0.362507          2        -0.596862   \n",
            "14              0 -0.643436   -0.362507          0        -0.763584   \n",
            "28              1 -0.148226   -0.806578          2         0.403466   \n",
            "38              0 -1.221181    3.063183          1         1.070351   \n",
            "\n",
            "    Durasi Pinjaman  \n",
            "6         -1.053742  \n",
            "41        -1.053742  \n",
            "46         0.096506  \n",
            "47         0.991143  \n",
            "15        -0.925937  \n",
            "9         -0.670326  \n",
            "16        -0.414715  \n",
            "24         0.224311  \n",
            "34         0.991143  \n",
            "31         1.374559  \n",
            "0         -0.925937  \n",
            "44         0.352117  \n",
            "27         0.863338  \n",
            "33         2.269197  \n",
            "5         -0.925937  \n",
            "29         0.224311  \n",
            "11        -0.925937  \n",
            "36         1.885781  \n",
            "1         -0.670326  \n",
            "21         0.096506  \n",
            "2         -1.181547  \n",
            "43        -1.181547  \n",
            "35         2.013586  \n",
            "23         0.607727  \n",
            "40        -1.309353  \n",
            "10        -1.181547  \n",
            "22         0.991143  \n",
            "18        -0.925937  \n",
            "49        -0.286910  \n",
            "20         0.352117  \n",
            "7         -0.414715  \n",
            "42        -0.925937  \n",
            "14        -0.670326  \n",
            "28         0.352117  \n",
            "38         1.630170  \n",
            "\n",
            "Data Uji:\n",
            "     Jenis Kelamin          Usia  Pendapatan  Pekerjaan  Jumlah Pinjaman  \\\n",
            "13              1 -6.569113e-02   -0.172191          1        -0.596862   \n",
            "39              1  2.327824e+00    3.697570          2         1.403794   \n",
            "30              0 -1.386251e+00    0.525635          1         1.070351   \n",
            "45              0 -5.864465e-16   -0.235629          2         0.403466   \n",
            "17              0 -2.307611e-01   -0.108752          0        -0.930305   \n",
            "48              1 -3.132961e-01   -0.172191          1         0.236744   \n",
            "26              1  1.819139e-01   -1.060333          1         0.570187   \n",
            "25              0 -3.958311e-01   -0.996894          1         1.070351   \n",
            "32              0  1.585009e+00    0.842828          2         1.403794   \n",
            "19              0 -8.910412e-01    0.018125          2        -0.596862   \n",
            "12              0 -4.783661e-01   -0.489384          2        -0.996994   \n",
            "4               1 -7.259712e-01   -0.616262          2        -1.263748   \n",
            "37              1  2.740499e+00    2.111602          0         2.237400   \n",
            "8               0  1.089799e+00    0.208441          0        -0.930305   \n",
            "3               1  6.771239e-01   -0.489384          0        -0.763584   \n",
            "\n",
            "    Durasi Pinjaman  \n",
            "13    -7.981313e-01  \n",
            "39     1.374559e+00  \n",
            "30     1.630170e+00  \n",
            "45     6.077274e-01  \n",
            "17    -1.053742e+00  \n",
            "48     2.243114e-01  \n",
            "26     7.355328e-01  \n",
            "25     4.799221e-01  \n",
            "32     1.246754e+00  \n",
            "19    -5.425206e-01  \n",
            "12    -1.053742e+00  \n",
            "4     -1.309353e+00  \n",
            "37     4.540558e-16  \n",
            "8     -9.259366e-01  \n",
            "3     -2.869099e-01  \n"
          ]
        }
      ]
    },
    {
      "cell_type": "markdown",
      "source": [
        "7. Buat dan Latih Model Random Forest"
      ],
      "metadata": {
        "id": "fgS33wLcmg9c"
      }
    },
    {
      "cell_type": "code",
      "source": [
        "rf_model = RandomForestClassifier(n_estimators=100, random_state=42)  # Buat model\n",
        "rf_model.fit(X_train, y_train)  # Latih model dengan data latih"
      ],
      "metadata": {
        "colab": {
          "base_uri": "https://localhost:8080/",
          "height": 80
        },
        "id": "NL3jRR93mhVq",
        "outputId": "bdab5d27-2da5-4781-d5d6-4dffec42f5d8"
      },
      "execution_count": null,
      "outputs": [
        {
          "output_type": "execute_result",
          "data": {
            "text/plain": [
              "RandomForestClassifier(random_state=42)"
            ],
            "text/html": [
              "<style>#sk-container-id-1 {\n",
              "  /* Definition of color scheme common for light and dark mode */\n",
              "  --sklearn-color-text: #000;\n",
              "  --sklearn-color-text-muted: #666;\n",
              "  --sklearn-color-line: gray;\n",
              "  /* Definition of color scheme for unfitted estimators */\n",
              "  --sklearn-color-unfitted-level-0: #fff5e6;\n",
              "  --sklearn-color-unfitted-level-1: #f6e4d2;\n",
              "  --sklearn-color-unfitted-level-2: #ffe0b3;\n",
              "  --sklearn-color-unfitted-level-3: chocolate;\n",
              "  /* Definition of color scheme for fitted estimators */\n",
              "  --sklearn-color-fitted-level-0: #f0f8ff;\n",
              "  --sklearn-color-fitted-level-1: #d4ebff;\n",
              "  --sklearn-color-fitted-level-2: #b3dbfd;\n",
              "  --sklearn-color-fitted-level-3: cornflowerblue;\n",
              "\n",
              "  /* Specific color for light theme */\n",
              "  --sklearn-color-text-on-default-background: var(--sg-text-color, var(--theme-code-foreground, var(--jp-content-font-color1, black)));\n",
              "  --sklearn-color-background: var(--sg-background-color, var(--theme-background, var(--jp-layout-color0, white)));\n",
              "  --sklearn-color-border-box: var(--sg-text-color, var(--theme-code-foreground, var(--jp-content-font-color1, black)));\n",
              "  --sklearn-color-icon: #696969;\n",
              "\n",
              "  @media (prefers-color-scheme: dark) {\n",
              "    /* Redefinition of color scheme for dark theme */\n",
              "    --sklearn-color-text-on-default-background: var(--sg-text-color, var(--theme-code-foreground, var(--jp-content-font-color1, white)));\n",
              "    --sklearn-color-background: var(--sg-background-color, var(--theme-background, var(--jp-layout-color0, #111)));\n",
              "    --sklearn-color-border-box: var(--sg-text-color, var(--theme-code-foreground, var(--jp-content-font-color1, white)));\n",
              "    --sklearn-color-icon: #878787;\n",
              "  }\n",
              "}\n",
              "\n",
              "#sk-container-id-1 {\n",
              "  color: var(--sklearn-color-text);\n",
              "}\n",
              "\n",
              "#sk-container-id-1 pre {\n",
              "  padding: 0;\n",
              "}\n",
              "\n",
              "#sk-container-id-1 input.sk-hidden--visually {\n",
              "  border: 0;\n",
              "  clip: rect(1px 1px 1px 1px);\n",
              "  clip: rect(1px, 1px, 1px, 1px);\n",
              "  height: 1px;\n",
              "  margin: -1px;\n",
              "  overflow: hidden;\n",
              "  padding: 0;\n",
              "  position: absolute;\n",
              "  width: 1px;\n",
              "}\n",
              "\n",
              "#sk-container-id-1 div.sk-dashed-wrapped {\n",
              "  border: 1px dashed var(--sklearn-color-line);\n",
              "  margin: 0 0.4em 0.5em 0.4em;\n",
              "  box-sizing: border-box;\n",
              "  padding-bottom: 0.4em;\n",
              "  background-color: var(--sklearn-color-background);\n",
              "}\n",
              "\n",
              "#sk-container-id-1 div.sk-container {\n",
              "  /* jupyter's `normalize.less` sets `[hidden] { display: none; }`\n",
              "     but bootstrap.min.css set `[hidden] { display: none !important; }`\n",
              "     so we also need the `!important` here to be able to override the\n",
              "     default hidden behavior on the sphinx rendered scikit-learn.org.\n",
              "     See: https://github.com/scikit-learn/scikit-learn/issues/21755 */\n",
              "  display: inline-block !important;\n",
              "  position: relative;\n",
              "}\n",
              "\n",
              "#sk-container-id-1 div.sk-text-repr-fallback {\n",
              "  display: none;\n",
              "}\n",
              "\n",
              "div.sk-parallel-item,\n",
              "div.sk-serial,\n",
              "div.sk-item {\n",
              "  /* draw centered vertical line to link estimators */\n",
              "  background-image: linear-gradient(var(--sklearn-color-text-on-default-background), var(--sklearn-color-text-on-default-background));\n",
              "  background-size: 2px 100%;\n",
              "  background-repeat: no-repeat;\n",
              "  background-position: center center;\n",
              "}\n",
              "\n",
              "/* Parallel-specific style estimator block */\n",
              "\n",
              "#sk-container-id-1 div.sk-parallel-item::after {\n",
              "  content: \"\";\n",
              "  width: 100%;\n",
              "  border-bottom: 2px solid var(--sklearn-color-text-on-default-background);\n",
              "  flex-grow: 1;\n",
              "}\n",
              "\n",
              "#sk-container-id-1 div.sk-parallel {\n",
              "  display: flex;\n",
              "  align-items: stretch;\n",
              "  justify-content: center;\n",
              "  background-color: var(--sklearn-color-background);\n",
              "  position: relative;\n",
              "}\n",
              "\n",
              "#sk-container-id-1 div.sk-parallel-item {\n",
              "  display: flex;\n",
              "  flex-direction: column;\n",
              "}\n",
              "\n",
              "#sk-container-id-1 div.sk-parallel-item:first-child::after {\n",
              "  align-self: flex-end;\n",
              "  width: 50%;\n",
              "}\n",
              "\n",
              "#sk-container-id-1 div.sk-parallel-item:last-child::after {\n",
              "  align-self: flex-start;\n",
              "  width: 50%;\n",
              "}\n",
              "\n",
              "#sk-container-id-1 div.sk-parallel-item:only-child::after {\n",
              "  width: 0;\n",
              "}\n",
              "\n",
              "/* Serial-specific style estimator block */\n",
              "\n",
              "#sk-container-id-1 div.sk-serial {\n",
              "  display: flex;\n",
              "  flex-direction: column;\n",
              "  align-items: center;\n",
              "  background-color: var(--sklearn-color-background);\n",
              "  padding-right: 1em;\n",
              "  padding-left: 1em;\n",
              "}\n",
              "\n",
              "\n",
              "/* Toggleable style: style used for estimator/Pipeline/ColumnTransformer box that is\n",
              "clickable and can be expanded/collapsed.\n",
              "- Pipeline and ColumnTransformer use this feature and define the default style\n",
              "- Estimators will overwrite some part of the style using the `sk-estimator` class\n",
              "*/\n",
              "\n",
              "/* Pipeline and ColumnTransformer style (default) */\n",
              "\n",
              "#sk-container-id-1 div.sk-toggleable {\n",
              "  /* Default theme specific background. It is overwritten whether we have a\n",
              "  specific estimator or a Pipeline/ColumnTransformer */\n",
              "  background-color: var(--sklearn-color-background);\n",
              "}\n",
              "\n",
              "/* Toggleable label */\n",
              "#sk-container-id-1 label.sk-toggleable__label {\n",
              "  cursor: pointer;\n",
              "  display: flex;\n",
              "  width: 100%;\n",
              "  margin-bottom: 0;\n",
              "  padding: 0.5em;\n",
              "  box-sizing: border-box;\n",
              "  text-align: center;\n",
              "  align-items: start;\n",
              "  justify-content: space-between;\n",
              "  gap: 0.5em;\n",
              "}\n",
              "\n",
              "#sk-container-id-1 label.sk-toggleable__label .caption {\n",
              "  font-size: 0.6rem;\n",
              "  font-weight: lighter;\n",
              "  color: var(--sklearn-color-text-muted);\n",
              "}\n",
              "\n",
              "#sk-container-id-1 label.sk-toggleable__label-arrow:before {\n",
              "  /* Arrow on the left of the label */\n",
              "  content: \"▸\";\n",
              "  float: left;\n",
              "  margin-right: 0.25em;\n",
              "  color: var(--sklearn-color-icon);\n",
              "}\n",
              "\n",
              "#sk-container-id-1 label.sk-toggleable__label-arrow:hover:before {\n",
              "  color: var(--sklearn-color-text);\n",
              "}\n",
              "\n",
              "/* Toggleable content - dropdown */\n",
              "\n",
              "#sk-container-id-1 div.sk-toggleable__content {\n",
              "  max-height: 0;\n",
              "  max-width: 0;\n",
              "  overflow: hidden;\n",
              "  text-align: left;\n",
              "  /* unfitted */\n",
              "  background-color: var(--sklearn-color-unfitted-level-0);\n",
              "}\n",
              "\n",
              "#sk-container-id-1 div.sk-toggleable__content.fitted {\n",
              "  /* fitted */\n",
              "  background-color: var(--sklearn-color-fitted-level-0);\n",
              "}\n",
              "\n",
              "#sk-container-id-1 div.sk-toggleable__content pre {\n",
              "  margin: 0.2em;\n",
              "  border-radius: 0.25em;\n",
              "  color: var(--sklearn-color-text);\n",
              "  /* unfitted */\n",
              "  background-color: var(--sklearn-color-unfitted-level-0);\n",
              "}\n",
              "\n",
              "#sk-container-id-1 div.sk-toggleable__content.fitted pre {\n",
              "  /* unfitted */\n",
              "  background-color: var(--sklearn-color-fitted-level-0);\n",
              "}\n",
              "\n",
              "#sk-container-id-1 input.sk-toggleable__control:checked~div.sk-toggleable__content {\n",
              "  /* Expand drop-down */\n",
              "  max-height: 200px;\n",
              "  max-width: 100%;\n",
              "  overflow: auto;\n",
              "}\n",
              "\n",
              "#sk-container-id-1 input.sk-toggleable__control:checked~label.sk-toggleable__label-arrow:before {\n",
              "  content: \"▾\";\n",
              "}\n",
              "\n",
              "/* Pipeline/ColumnTransformer-specific style */\n",
              "\n",
              "#sk-container-id-1 div.sk-label input.sk-toggleable__control:checked~label.sk-toggleable__label {\n",
              "  color: var(--sklearn-color-text);\n",
              "  background-color: var(--sklearn-color-unfitted-level-2);\n",
              "}\n",
              "\n",
              "#sk-container-id-1 div.sk-label.fitted input.sk-toggleable__control:checked~label.sk-toggleable__label {\n",
              "  background-color: var(--sklearn-color-fitted-level-2);\n",
              "}\n",
              "\n",
              "/* Estimator-specific style */\n",
              "\n",
              "/* Colorize estimator box */\n",
              "#sk-container-id-1 div.sk-estimator input.sk-toggleable__control:checked~label.sk-toggleable__label {\n",
              "  /* unfitted */\n",
              "  background-color: var(--sklearn-color-unfitted-level-2);\n",
              "}\n",
              "\n",
              "#sk-container-id-1 div.sk-estimator.fitted input.sk-toggleable__control:checked~label.sk-toggleable__label {\n",
              "  /* fitted */\n",
              "  background-color: var(--sklearn-color-fitted-level-2);\n",
              "}\n",
              "\n",
              "#sk-container-id-1 div.sk-label label.sk-toggleable__label,\n",
              "#sk-container-id-1 div.sk-label label {\n",
              "  /* The background is the default theme color */\n",
              "  color: var(--sklearn-color-text-on-default-background);\n",
              "}\n",
              "\n",
              "/* On hover, darken the color of the background */\n",
              "#sk-container-id-1 div.sk-label:hover label.sk-toggleable__label {\n",
              "  color: var(--sklearn-color-text);\n",
              "  background-color: var(--sklearn-color-unfitted-level-2);\n",
              "}\n",
              "\n",
              "/* Label box, darken color on hover, fitted */\n",
              "#sk-container-id-1 div.sk-label.fitted:hover label.sk-toggleable__label.fitted {\n",
              "  color: var(--sklearn-color-text);\n",
              "  background-color: var(--sklearn-color-fitted-level-2);\n",
              "}\n",
              "\n",
              "/* Estimator label */\n",
              "\n",
              "#sk-container-id-1 div.sk-label label {\n",
              "  font-family: monospace;\n",
              "  font-weight: bold;\n",
              "  display: inline-block;\n",
              "  line-height: 1.2em;\n",
              "}\n",
              "\n",
              "#sk-container-id-1 div.sk-label-container {\n",
              "  text-align: center;\n",
              "}\n",
              "\n",
              "/* Estimator-specific */\n",
              "#sk-container-id-1 div.sk-estimator {\n",
              "  font-family: monospace;\n",
              "  border: 1px dotted var(--sklearn-color-border-box);\n",
              "  border-radius: 0.25em;\n",
              "  box-sizing: border-box;\n",
              "  margin-bottom: 0.5em;\n",
              "  /* unfitted */\n",
              "  background-color: var(--sklearn-color-unfitted-level-0);\n",
              "}\n",
              "\n",
              "#sk-container-id-1 div.sk-estimator.fitted {\n",
              "  /* fitted */\n",
              "  background-color: var(--sklearn-color-fitted-level-0);\n",
              "}\n",
              "\n",
              "/* on hover */\n",
              "#sk-container-id-1 div.sk-estimator:hover {\n",
              "  /* unfitted */\n",
              "  background-color: var(--sklearn-color-unfitted-level-2);\n",
              "}\n",
              "\n",
              "#sk-container-id-1 div.sk-estimator.fitted:hover {\n",
              "  /* fitted */\n",
              "  background-color: var(--sklearn-color-fitted-level-2);\n",
              "}\n",
              "\n",
              "/* Specification for estimator info (e.g. \"i\" and \"?\") */\n",
              "\n",
              "/* Common style for \"i\" and \"?\" */\n",
              "\n",
              ".sk-estimator-doc-link,\n",
              "a:link.sk-estimator-doc-link,\n",
              "a:visited.sk-estimator-doc-link {\n",
              "  float: right;\n",
              "  font-size: smaller;\n",
              "  line-height: 1em;\n",
              "  font-family: monospace;\n",
              "  background-color: var(--sklearn-color-background);\n",
              "  border-radius: 1em;\n",
              "  height: 1em;\n",
              "  width: 1em;\n",
              "  text-decoration: none !important;\n",
              "  margin-left: 0.5em;\n",
              "  text-align: center;\n",
              "  /* unfitted */\n",
              "  border: var(--sklearn-color-unfitted-level-1) 1pt solid;\n",
              "  color: var(--sklearn-color-unfitted-level-1);\n",
              "}\n",
              "\n",
              ".sk-estimator-doc-link.fitted,\n",
              "a:link.sk-estimator-doc-link.fitted,\n",
              "a:visited.sk-estimator-doc-link.fitted {\n",
              "  /* fitted */\n",
              "  border: var(--sklearn-color-fitted-level-1) 1pt solid;\n",
              "  color: var(--sklearn-color-fitted-level-1);\n",
              "}\n",
              "\n",
              "/* On hover */\n",
              "div.sk-estimator:hover .sk-estimator-doc-link:hover,\n",
              ".sk-estimator-doc-link:hover,\n",
              "div.sk-label-container:hover .sk-estimator-doc-link:hover,\n",
              ".sk-estimator-doc-link:hover {\n",
              "  /* unfitted */\n",
              "  background-color: var(--sklearn-color-unfitted-level-3);\n",
              "  color: var(--sklearn-color-background);\n",
              "  text-decoration: none;\n",
              "}\n",
              "\n",
              "div.sk-estimator.fitted:hover .sk-estimator-doc-link.fitted:hover,\n",
              ".sk-estimator-doc-link.fitted:hover,\n",
              "div.sk-label-container:hover .sk-estimator-doc-link.fitted:hover,\n",
              ".sk-estimator-doc-link.fitted:hover {\n",
              "  /* fitted */\n",
              "  background-color: var(--sklearn-color-fitted-level-3);\n",
              "  color: var(--sklearn-color-background);\n",
              "  text-decoration: none;\n",
              "}\n",
              "\n",
              "/* Span, style for the box shown on hovering the info icon */\n",
              ".sk-estimator-doc-link span {\n",
              "  display: none;\n",
              "  z-index: 9999;\n",
              "  position: relative;\n",
              "  font-weight: normal;\n",
              "  right: .2ex;\n",
              "  padding: .5ex;\n",
              "  margin: .5ex;\n",
              "  width: min-content;\n",
              "  min-width: 20ex;\n",
              "  max-width: 50ex;\n",
              "  color: var(--sklearn-color-text);\n",
              "  box-shadow: 2pt 2pt 4pt #999;\n",
              "  /* unfitted */\n",
              "  background: var(--sklearn-color-unfitted-level-0);\n",
              "  border: .5pt solid var(--sklearn-color-unfitted-level-3);\n",
              "}\n",
              "\n",
              ".sk-estimator-doc-link.fitted span {\n",
              "  /* fitted */\n",
              "  background: var(--sklearn-color-fitted-level-0);\n",
              "  border: var(--sklearn-color-fitted-level-3);\n",
              "}\n",
              "\n",
              ".sk-estimator-doc-link:hover span {\n",
              "  display: block;\n",
              "}\n",
              "\n",
              "/* \"?\"-specific style due to the `<a>` HTML tag */\n",
              "\n",
              "#sk-container-id-1 a.estimator_doc_link {\n",
              "  float: right;\n",
              "  font-size: 1rem;\n",
              "  line-height: 1em;\n",
              "  font-family: monospace;\n",
              "  background-color: var(--sklearn-color-background);\n",
              "  border-radius: 1rem;\n",
              "  height: 1rem;\n",
              "  width: 1rem;\n",
              "  text-decoration: none;\n",
              "  /* unfitted */\n",
              "  color: var(--sklearn-color-unfitted-level-1);\n",
              "  border: var(--sklearn-color-unfitted-level-1) 1pt solid;\n",
              "}\n",
              "\n",
              "#sk-container-id-1 a.estimator_doc_link.fitted {\n",
              "  /* fitted */\n",
              "  border: var(--sklearn-color-fitted-level-1) 1pt solid;\n",
              "  color: var(--sklearn-color-fitted-level-1);\n",
              "}\n",
              "\n",
              "/* On hover */\n",
              "#sk-container-id-1 a.estimator_doc_link:hover {\n",
              "  /* unfitted */\n",
              "  background-color: var(--sklearn-color-unfitted-level-3);\n",
              "  color: var(--sklearn-color-background);\n",
              "  text-decoration: none;\n",
              "}\n",
              "\n",
              "#sk-container-id-1 a.estimator_doc_link.fitted:hover {\n",
              "  /* fitted */\n",
              "  background-color: var(--sklearn-color-fitted-level-3);\n",
              "}\n",
              "</style><div id=\"sk-container-id-1\" class=\"sk-top-container\"><div class=\"sk-text-repr-fallback\"><pre>RandomForestClassifier(random_state=42)</pre><b>In a Jupyter environment, please rerun this cell to show the HTML representation or trust the notebook. <br />On GitHub, the HTML representation is unable to render, please try loading this page with nbviewer.org.</b></div><div class=\"sk-container\" hidden><div class=\"sk-item\"><div class=\"sk-estimator fitted sk-toggleable\"><input class=\"sk-toggleable__control sk-hidden--visually\" id=\"sk-estimator-id-1\" type=\"checkbox\" checked><label for=\"sk-estimator-id-1\" class=\"sk-toggleable__label fitted sk-toggleable__label-arrow\"><div><div>RandomForestClassifier</div></div><div><a class=\"sk-estimator-doc-link fitted\" rel=\"noreferrer\" target=\"_blank\" href=\"https://scikit-learn.org/1.6/modules/generated/sklearn.ensemble.RandomForestClassifier.html\">?<span>Documentation for RandomForestClassifier</span></a><span class=\"sk-estimator-doc-link fitted\">i<span>Fitted</span></span></div></label><div class=\"sk-toggleable__content fitted\"><pre>RandomForestClassifier(random_state=42)</pre></div> </div></div></div></div>"
            ]
          },
          "metadata": {},
          "execution_count": 23
        }
      ]
    },
    {
      "cell_type": "markdown",
      "source": [
        "8. Prediksi pada Data Uji"
      ],
      "metadata": {
        "id": "nPcddvakmkcc"
      }
    },
    {
      "cell_type": "code",
      "source": [
        "y_pred = rf_model.predict(X_test)  # Prediksi pada data uji"
      ],
      "metadata": {
        "id": "KeGL4ESOml0F"
      },
      "execution_count": null,
      "outputs": []
    },
    {
      "cell_type": "markdown",
      "source": [
        "9. Evaluasi Model"
      ],
      "metadata": {
        "id": "ZW_s8FAxmoUZ"
      }
    },
    {
      "cell_type": "code",
      "source": [
        "print(\"\\nHasil Prediksi:\", y_pred.tolist())\n",
        "print(\"Nilai Aktual  :\", y_test.tolist())\n",
        "print(\"Akurasi:\", accuracy_score(y_test, y_pred))  # Hitung akurasi model\n",
        "print(\"\\nClassification Report:\\n\", classification_report(y_test, y_pred))  # Laporan klasifikasi\n",
        "print(\"Confusion Matrix:\\n\", confusion_matrix(y_test, y_pred))              # Matriks kebingungan"
      ],
      "metadata": {
        "colab": {
          "base_uri": "https://localhost:8080/"
        },
        "id": "OLvR_AmBmpqr",
        "outputId": "64f9cac7-448c-4a02-e472-551dadb4e1df"
      },
      "execution_count": null,
      "outputs": [
        {
          "output_type": "stream",
          "name": "stdout",
          "text": [
            "\n",
            "Hasil Prediksi: [0, 1, 1, 1, 0, 1, 1, 1, 1, 0, 0, 0, 1, 0, 0]\n",
            "Nilai Aktual  : [0, 1, 1, 1, 0, 1, 1, 1, 1, 0, 0, 0, 1, 0, 0]\n",
            "Akurasi: 1.0\n",
            "\n",
            "Classification Report:\n",
            "               precision    recall  f1-score   support\n",
            "\n",
            "           0       1.00      1.00      1.00         7\n",
            "           1       1.00      1.00      1.00         8\n",
            "\n",
            "    accuracy                           1.00        15\n",
            "   macro avg       1.00      1.00      1.00        15\n",
            "weighted avg       1.00      1.00      1.00        15\n",
            "\n",
            "Confusion Matrix:\n",
            " [[7 0]\n",
            " [0 8]]\n"
          ]
        }
      ]
    },
    {
      "cell_type": "markdown",
      "source": [
        "9. Prediksi Data Baru (contoh statis)"
      ],
      "metadata": {
        "id": "q030g8Mqm8Du"
      }
    },
    {
      "cell_type": "code",
      "source": [
        "print(\"Mapping target:\", dict(zip(le_target.classes_, le_target.transform(le_target.classes_))))\n"
      ],
      "metadata": {
        "colab": {
          "base_uri": "https://localhost:8080/"
        },
        "id": "-SfqnmkEpP2L",
        "outputId": "cd9e26c3-805f-4324-b2eb-53f5cf878f68"
      },
      "execution_count": null,
      "outputs": [
        {
          "output_type": "stream",
          "name": "stdout",
          "text": [
            "Mapping target: {'Layak': np.int64(0), 'Tidak': np.int64(1)}\n"
          ]
        }
      ]
    },
    {
      "cell_type": "code",
      "source": [
        "# ======================================\n",
        "# 10. Prediksi Berdasarkan Input Pengguna (Interaktif)\n",
        "# ======================================\n",
        "print(\"\\n=== Prediksi Berdasarkan Input Pengguna ===\")\n",
        "\n",
        "# Input dari user\n",
        "gender_input = input(\"Masukkan Jenis Kelamin (Pria/Wanita): \")\n",
        "usia_input = float(input(\"Masukkan Usia (tahun): \"))\n",
        "pendapatan_input = float(input(\"Masukkan Pendapatan (juta per bulan): \"))\n",
        "pekerjaan_input = input(\"Masukkan Pekerjaan (Swasta/PNS/Wirausaha): \")\n",
        "pinjaman_input = float(input(\"Masukkan Jumlah Pinjaman (juta): \"))\n",
        "durasi_input = float(input(\"Masukkan Durasi Pinjaman (tahun): \"))\n",
        "\n",
        "# Standarisasi input numerik\n",
        "scaled_input = scaler.transform([[usia_input, pendapatan_input, pinjaman_input, durasi_input]])\n",
        "\n",
        "# Buat DataFrame sesuai format fitur\n",
        "user_input = pd.DataFrame({\n",
        "    'Jenis Kelamin': [le_gender.transform([gender_input])[0]],   # Encode Jenis Kelamin\n",
        "    'Usia': [scaled_input[0][0]],                                # Usia yang distandarisasi\n",
        "    'Pendapatan': [scaled_input[0][1]],                          # Pendapatan distandarisasi\n",
        "    'Jumlah Pinjaman': [scaled_input[0][2]],                     # Pinjaman distandarisasi\n",
        "    'Durasi Pinjaman': [scaled_input[0][3]],                     # Durasi distandarisasi\n",
        "    'Pekerjaan': [le_job.transform([pekerjaan_input])[0]]        # Encode Pekerjaan\n",
        "}, index=[0])\n",
        "\n",
        "# Samakan urutan kolom dengan X (data training)\n",
        "user_input = user_input.reindex(columns=X.columns)\n",
        "\n",
        "# Prediksi hasil input user\n",
        "pred_user = rf_model.predict(user_input)\n",
        "\n",
        "# Tampilkan hasil\n",
        "print(\"\\n=== Hasil Prediksi ===\")\n",
        "print(f\"Input: {gender_input}, Usia {usia_input}, Pendapatan {pendapatan_input}jt, \"\n",
        "      f\"Pekerjaan {pekerjaan_input}, Pinjaman {pinjaman_input}jt, Durasi {durasi_input}thn\")\n",
        "\n",
        "# Gunakan inverse_transform agar sesuai mapping asli\n",
        "print(\"Prediksi Kelayakan Kredit:\", le_target.inverse_transform(pred_user)[0])\n"
      ],
      "metadata": {
        "colab": {
          "base_uri": "https://localhost:8080/"
        },
        "id": "vzi81bmVm8Xo",
        "outputId": "6c6e7fb2-d997-40ed-9b83-cb0a00ddaf45"
      },
      "execution_count": null,
      "outputs": [
        {
          "output_type": "stream",
          "name": "stdout",
          "text": [
            "\n",
            "=== Prediksi Berdasarkan Input Pengguna ===\n",
            "Masukkan Jenis Kelamin (Pria/Wanita): Pria\n",
            "Masukkan Usia (tahun): 15\n",
            "Masukkan Pendapatan (juta per bulan): 2\n",
            "Masukkan Pekerjaan (Swasta/PNS/Wirausaha): PNS\n",
            "Masukkan Jumlah Pinjaman (juta): 900\n",
            "Masukkan Durasi Pinjaman (tahun): 10\n",
            "\n",
            "=== Hasil Prediksi ===\n",
            "Input: Pria, Usia 15.0, Pendapatan 2.0jt, Pekerjaan PNS, Pinjaman 900.0jt, Durasi 10.0thn\n",
            "Prediksi Kelayakan Kredit: Tidak\n"
          ]
        },
        {
          "output_type": "stream",
          "name": "stderr",
          "text": [
            "/usr/local/lib/python3.12/dist-packages/sklearn/utils/validation.py:2739: UserWarning: X does not have valid feature names, but StandardScaler was fitted with feature names\n",
            "  warnings.warn(\n"
          ]
        }
      ]
    }
  ]
}